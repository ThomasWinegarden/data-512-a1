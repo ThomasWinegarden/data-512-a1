{
 "cells": [
  {
   "cell_type": "markdown",
   "metadata": {},
   "source": [
    "## DATA 512 FALL 2019 - ASSIGNMENT 1 - DATA CURATION"
   ]
  },
  {
   "cell_type": "markdown",
   "metadata": {},
   "source": [
    "This notebook is part of assignment 1 of the class Human Centered Data Science (DATA 512) at The University of Washington. Assignment requirements can be found here: https://wiki.communitydata.science/Human_Centered_Data_Science_(Fall_2019)/Assignments#A1:_Data_curation\n",
    "\n",
    "\"The purpose of the assignment is to demonstrate that you can follow best practices for open scientific research in designing and implementing your project, and make your project fully reproducible by others: from data collection to data analysis.\" - Jonathan Morgan (JMO), DATA 512 (FALL 2019): A1"
   ]
  },
  {
   "cell_type": "code",
   "execution_count": 1,
   "metadata": {
    "scrolled": true
   },
   "outputs": [
    {
     "name": "stdout",
     "output_type": "stream",
     "text": [
      "3.7.1 (default, Dec 14 2018, 13:28:58) \n",
      "[Clang 4.0.1 (tags/RELEASE_401/final)]\n"
     ]
    }
   ],
   "source": [
    "import sys\n",
    "print(sys.version)"
   ]
  },
  {
   "cell_type": "markdown",
   "metadata": {},
   "source": [
    "This notebook uses Python version 3.7.1"
   ]
  },
  {
   "cell_type": "markdown",
   "metadata": {},
   "source": [
    "### DATA ACQUISITION"
   ]
  },
  {
   "cell_type": "markdown",
   "metadata": {},
   "source": [
    "The section below contains copied code from the example provided here: http://paws-public.wmflabs.org/paws-public/User:Jtmorgan/data512_a1_example.ipynb"
   ]
  },
  {
   "cell_type": "code",
   "execution_count": 2,
   "metadata": {},
   "outputs": [],
   "source": [
    "#importing libraries\n",
    "import json\n",
    "import requests\n",
    "import pandas as pd"
   ]
  },
  {
   "cell_type": "code",
   "execution_count": 3,
   "metadata": {},
   "outputs": [],
   "source": [
    "endpoint_legacy = 'https://wikimedia.org/api/rest_v1/metrics/legacy/pagecounts/aggregate/{project}/{access-site}/{granularity}/{start}/{end}'\n",
    "\n",
    "endpoint_pageviews = 'https://wikimedia.org/api/rest_v1/metrics/pageviews/aggregate/{project}/{access}/{agent}/{granularity}/{start}/{end}'\n"
   ]
  },
  {
   "cell_type": "code",
   "execution_count": 4,
   "metadata": {},
   "outputs": [],
   "source": [
    "# SAMPLE parameters for getting aggregated legacy view data \n",
    "# see: https://wikimedia.org/api/rest_v1/#!/Legacy_data/get_metrics_legacy_pagecounts_aggregate_project_access_site_granularity_start_end\n",
    "example_params_legacy = {\"project\" : \"en.wikipedia.org\",\n",
    "                 \"access-site\" : \"desktop-site\",\n",
    "                 \"granularity\" : \"monthly\",\n",
    "                 \"start\" : \"2001010100\",\n",
    "                # for end use 1st day of month following final month of data\n",
    "                 \"end\" : \"2018100100\"\n",
    "                    }\n",
    "\n",
    "# SAMPLE parameters for getting aggregated current standard pageview data\n",
    "# see: https://wikimedia.org/api/rest_v1/#!/Pageviews_data/get_metrics_pageviews_aggregate_project_access_agent_granularity_start_end\n",
    "example_params_pageviews = {\"project\" : \"en.wikipedia.org\",\n",
    "                    \"access\" : \"desktop\",\n",
    "                    \"agent\" : \"user\",\n",
    "                    \"granularity\" : \"monthly\",\n",
    "                    \"start\" : \"2001010100\",\n",
    "                    # for end use 1st day of month following final month of data\n",
    "                    \"end\" : '2018101000'\n",
    "                        }\n",
    "\n",
    "# Customize these with your own information\n",
    "# \n",
    "headers = {\n",
    "    'User-Agent': 'https://github.com/ThomasWinegarden',\n",
    "    'From': 'thomasw3@uw.edu'\n",
    "}"
   ]
  },
  {
   "cell_type": "code",
   "execution_count": 5,
   "metadata": {},
   "outputs": [],
   "source": [
    "def api_call(endpoint,parameters):\n",
    "    call = requests.get(endpoint.format(**parameters), headers=headers)\n",
    "    response = call.json()\n",
    "    \n",
    "    return response"
   ]
  },
  {
   "cell_type": "code",
   "execution_count": 6,
   "metadata": {},
   "outputs": [],
   "source": [
    "example_monthly_pageviews = api_call(endpoint_pageviews, example_params_pageviews)"
   ]
  },
  {
   "cell_type": "code",
   "execution_count": 7,
   "metadata": {
    "scrolled": true
   },
   "outputs": [],
   "source": [
    "#print(example_monthly_pageviews)"
   ]
  },
  {
   "cell_type": "markdown",
   "metadata": {},
   "source": [
    "\"For each API, you will need to collect data for all months where data is available and then save the raw results into 5 separate JSON source data files (one file per API query type) before continuing to step 2\" -JMO"
   ]
  },
  {
   "cell_type": "code",
   "execution_count": 8,
   "metadata": {},
   "outputs": [],
   "source": [
    "\n",
    "#apiname_accesstype_firstmonth-lastmonth.json\n",
    "#pagecounts_desktop-site_200712-201908.json\n",
    "\n"
   ]
  },
  {
   "cell_type": "markdown",
   "metadata": {},
   "source": [
    "EXAMPLE CELL BELOW IS FROM THIS WEBSITE: https://stackabuse.com/saving-text-json-and-csv-to-a-file-in-python/"
   ]
  },
  {
   "cell_type": "code",
   "execution_count": 9,
   "metadata": {},
   "outputs": [],
   "source": [
    "#import json\n",
    "#\n",
    "#my_details = {\n",
    "#    'name': 'John Doe',\n",
    "#    'age': 29\n",
    "#}\n",
    "#\n",
    "#with open('personal.json', 'w') as json_file:\n",
    "#    json.dump(my_details, json_file)"
   ]
  },
  {
   "cell_type": "code",
   "execution_count": 10,
   "metadata": {},
   "outputs": [],
   "source": [
    "#def api_call_and_json_saver(endpoint, parameters, targetfilename):\n",
    "#    call = requests.get(endpoint.format(**parameters), headers=headers)\n",
    "#    response = call.json()\n",
    "#    return response"
   ]
  },
  {
   "cell_type": "markdown",
   "metadata": {},
   "source": [
    "(1) desktop, (2) mobile    From: Legacy Pagecounts API: December 2007 through July 2016"
   ]
  },
  {
   "cell_type": "code",
   "execution_count": 11,
   "metadata": {},
   "outputs": [],
   "source": [
    "#desktop legacy\n",
    "desktop_params_legacy = {\"project\" : \"en.wikipedia.org\",\n",
    "                 \"access-site\" : \"desktop-site\",\n",
    "                 \"granularity\" : \"monthly\",\n",
    "                 \"start\" : \"2001010100\",\n",
    "                # for end use 1st day of month following final month of data\n",
    "                 \"end\" : \"2018100100\"\n",
    "                    }\n",
    "\n"
   ]
  },
  {
   "cell_type": "code",
   "execution_count": 12,
   "metadata": {},
   "outputs": [],
   "source": [
    "desktop_legacy_dict = api_call(endpoint_legacy, desktop_params_legacy)\n",
    "with open('pagecounts_desktop-site_200101-201810.json', 'w') as json_out_file1:\n",
    "    json.dump(desktop_legacy_dict, json_out_file1)"
   ]
  },
  {
   "cell_type": "code",
   "execution_count": 13,
   "metadata": {},
   "outputs": [],
   "source": [
    "#mobile legacy\n",
    "mobile_params_legacy = {\"project\" : \"en.wikipedia.org\",\n",
    "                 \"access-site\" : \"mobile-site\",\n",
    "                 \"granularity\" : \"monthly\",\n",
    "                 \"start\" : \"2001010100\",\n",
    "                # for end use 1st day of month following final month of data\n",
    "                 \"end\" : \"2018100100\"\n",
    "                    }"
   ]
  },
  {
   "cell_type": "code",
   "execution_count": 14,
   "metadata": {},
   "outputs": [],
   "source": [
    "mobile_legacy_dict = api_call(endpoint_legacy, mobile_params_legacy)\n",
    "with open('pagecounts_mobile-site_200101-201810.json', 'w') as json_out_file2:\n",
    "    json.dump(mobile_legacy_dict, json_out_file2)"
   ]
  },
  {
   "cell_type": "markdown",
   "metadata": {},
   "source": [
    "(3) desktop, (4) mobile web, (5) mobile app    From: Pageviews API: July 2015 through last month"
   ]
  },
  {
   "cell_type": "code",
   "execution_count": 15,
   "metadata": {},
   "outputs": [],
   "source": [
    "#desktop pageviews\n",
    "desktop_params_pageviews = {\"project\" : \"en.wikipedia.org\",\n",
    "                    \"access\" : \"desktop\",\n",
    "                    \"agent\" : \"user\",\n",
    "                    \"granularity\" : \"monthly\",\n",
    "                    \"start\" : \"2015070100\",\n",
    "                    # for end use 1st day of month following final month of data\n",
    "                    \"end\" : '2019100100'\n",
    "                        }\n"
   ]
  },
  {
   "cell_type": "code",
   "execution_count": 16,
   "metadata": {},
   "outputs": [],
   "source": [
    "#desktop_pageviews_dict = api_call(endpoint_pageviews, desktop_params_pageviews)\n",
    "#print(example_monthly_pageviews)"
   ]
  },
  {
   "cell_type": "code",
   "execution_count": 17,
   "metadata": {},
   "outputs": [],
   "source": [
    "desktop_pageviews_dict = api_call(endpoint_pageviews, desktop_params_pageviews)\n",
    "with open('pageviews_desktop_201507-201910.json', 'w') as json_out_file3:\n",
    "    json.dump(desktop_pageviews_dict, json_out_file3)"
   ]
  },
  {
   "cell_type": "code",
   "execution_count": 18,
   "metadata": {},
   "outputs": [],
   "source": [
    "#mobile-web pageviews\n",
    "mobile_web_params_pageviews = {\"project\" : \"en.wikipedia.org\",\n",
    "                    \"access\" : \"mobile-web\",\n",
    "                    \"agent\" : \"user\",\n",
    "                    \"granularity\" : \"monthly\",\n",
    "                    \"start\" : \"2015070100\",\n",
    "                    # for end use 1st day of month following final month of data\n",
    "                    \"end\" : '2019100100'\n",
    "                        }\n"
   ]
  },
  {
   "cell_type": "code",
   "execution_count": 19,
   "metadata": {},
   "outputs": [],
   "source": [
    "mobile_web_pageviews_dict = api_call(endpoint_pageviews, mobile_web_params_pageviews)\n",
    "with open('pageviews_mobile-web_201507-201910.json', 'w') as json_out_file4:\n",
    "    json.dump(mobile_web_pageviews_dict, json_out_file4)"
   ]
  },
  {
   "cell_type": "code",
   "execution_count": 20,
   "metadata": {},
   "outputs": [],
   "source": [
    "#mobile-app pageviews\n",
    "mobile_app_params_pageviews = {\"project\" : \"en.wikipedia.org\",\n",
    "                    \"access\" : \"mobile-app\",\n",
    "                    \"agent\" : \"user\",\n",
    "                    \"granularity\" : \"monthly\",\n",
    "                    \"start\" : \"2015070100\",\n",
    "                    # for end use 1st day of month following final month of data\n",
    "                    \"end\" : '2019100100'\n",
    "                        }\n"
   ]
  },
  {
   "cell_type": "code",
   "execution_count": 21,
   "metadata": {},
   "outputs": [],
   "source": [
    "mobile_app_pageviews_dict = api_call(endpoint_pageviews, mobile_app_params_pageviews)\n",
    "with open('pageviews_mobile-app_201507-201910.json', 'w') as json_out_file5:\n",
    "    json.dump(mobile_app_pageviews_dict, json_out_file5)"
   ]
  },
  {
   "cell_type": "code",
   "execution_count": 22,
   "metadata": {},
   "outputs": [
    {
     "data": {
      "text/plain": [
       "dict"
      ]
     },
     "execution_count": 22,
     "metadata": {},
     "output_type": "execute_result"
    }
   ],
   "source": [
    "type(mobile_app_pageviews_dict)"
   ]
  },
  {
   "cell_type": "markdown",
   "metadata": {},
   "source": [
    "desktop_legacy_dict\n",
    "mobile_legacy_dict\n",
    "desktop_pageviews_dict\n",
    "mobile_web_pageviews_dict\n",
    "mobile_app_pageviews_dict"
   ]
  },
  {
   "cell_type": "markdown",
   "metadata": {},
   "source": [
    "### 2. DATA PROCESSING"
   ]
  },
  {
   "cell_type": "markdown",
   "metadata": {},
   "source": [
    "\"For data collected from the Pageviews API, combine the monthly values for mobile-app and mobile-web to create a total mobile traffic count for each month.\" - JMO"
   ]
  },
  {
   "cell_type": "markdown",
   "metadata": {},
   "source": [
    "\"For all data, separate the value of timestamp into four-digit year (YYYY) and two-digit month (MM) and discard values for day and hour (DDHH).\""
   ]
  },
  {
   "cell_type": "code",
   "execution_count": 57,
   "metadata": {
    "scrolled": true
   },
   "outputs": [
    {
     "data": {
      "text/html": [
       "<table class=\"wikitable\"><tbody><tr><th>Column</th><th>Value</th></tr><tr><td>year</td><td>YYYY</td></tr><tr><td>month</td><td>MM</td></tr><tr><td>pagecount_all_views</td><td>num_views</td></tr><tr><td>pagecount_desktop_views</td><td>num_views</td></tr><tr><td>pagecount_mobile_views</td><td>num_views</td></tr><tr><td>pageview_all_views</td><td>num_views</td></tr><tr><td>pageview_desktop_views</td><td>num_views</td></tr><tr><td>pageview_mobile_views</td><td>num_views</td></tr></tbody></table>"
      ],
      "text/plain": [
       "<IPython.core.display.HTML object>"
      ]
     },
     "metadata": {},
     "output_type": "display_data"
    }
   ],
   "source": [
    "#from https://wiki.communitydata.science/Human_Centered_Data_Science_(Fall_2019)/Assignments#A1:_Data_curation\n",
    "from IPython.core.display import display, HTML\n",
    "display(HTML('<table class=\"wikitable\"><tbody><tr><th>Column</th><th>Value</th></tr><tr><td>year</td><td>YYYY</td></tr><tr><td>month</td><td>MM</td></tr><tr><td>pagecount_all_views</td><td>num_views</td></tr><tr><td>pagecount_desktop_views</td><td>num_views</td></tr><tr><td>pagecount_mobile_views</td><td>num_views</td></tr><tr><td>pageview_all_views</td><td>num_views</td></tr><tr><td>pageview_desktop_views</td><td>num_views</td></tr><tr><td>pageview_mobile_views</td><td>num_views</td></tr></tbody></table>'))"
   ]
  },
  {
   "cell_type": "markdown",
   "metadata": {},
   "source": [
    "desktop_legacy_dict\n",
    "mobile_legacy_dict\n",
    "desktop_pageviews_dict\n",
    "mobile_web_pageviews_dict\n",
    "mobile_app_pageviews_dict"
   ]
  },
  {
   "cell_type": "markdown",
   "metadata": {},
   "source": [
    "https://pandas.pydata.org/pandas-docs/stable/reference/api/pandas.io.json.json_normalize.html"
   ]
  },
  {
   "cell_type": "code",
   "execution_count": 23,
   "metadata": {
    "scrolled": true
   },
   "outputs": [
    {
     "data": {
      "text/html": [
       "<div>\n",
       "<style scoped>\n",
       "    .dataframe tbody tr th:only-of-type {\n",
       "        vertical-align: middle;\n",
       "    }\n",
       "\n",
       "    .dataframe tbody tr th {\n",
       "        vertical-align: top;\n",
       "    }\n",
       "\n",
       "    .dataframe thead th {\n",
       "        text-align: right;\n",
       "    }\n",
       "</style>\n",
       "<table border=\"1\" class=\"dataframe\">\n",
       "  <thead>\n",
       "    <tr style=\"text-align: right;\">\n",
       "      <th></th>\n",
       "      <th>access-site</th>\n",
       "      <th>count</th>\n",
       "      <th>granularity</th>\n",
       "      <th>project</th>\n",
       "      <th>timestamp</th>\n",
       "    </tr>\n",
       "  </thead>\n",
       "  <tbody>\n",
       "    <tr>\n",
       "      <th>0</th>\n",
       "      <td>desktop-site</td>\n",
       "      <td>2998331524</td>\n",
       "      <td>monthly</td>\n",
       "      <td>en.wikipedia</td>\n",
       "      <td>2007120100</td>\n",
       "    </tr>\n",
       "    <tr>\n",
       "      <th>1</th>\n",
       "      <td>desktop-site</td>\n",
       "      <td>4930902570</td>\n",
       "      <td>monthly</td>\n",
       "      <td>en.wikipedia</td>\n",
       "      <td>2008010100</td>\n",
       "    </tr>\n",
       "    <tr>\n",
       "      <th>2</th>\n",
       "      <td>desktop-site</td>\n",
       "      <td>4818393763</td>\n",
       "      <td>monthly</td>\n",
       "      <td>en.wikipedia</td>\n",
       "      <td>2008020100</td>\n",
       "    </tr>\n",
       "    <tr>\n",
       "      <th>3</th>\n",
       "      <td>desktop-site</td>\n",
       "      <td>4955405809</td>\n",
       "      <td>monthly</td>\n",
       "      <td>en.wikipedia</td>\n",
       "      <td>2008030100</td>\n",
       "    </tr>\n",
       "    <tr>\n",
       "      <th>4</th>\n",
       "      <td>desktop-site</td>\n",
       "      <td>5159162183</td>\n",
       "      <td>monthly</td>\n",
       "      <td>en.wikipedia</td>\n",
       "      <td>2008040100</td>\n",
       "    </tr>\n",
       "    <tr>\n",
       "      <th>5</th>\n",
       "      <td>desktop-site</td>\n",
       "      <td>5584691092</td>\n",
       "      <td>monthly</td>\n",
       "      <td>en.wikipedia</td>\n",
       "      <td>2008050100</td>\n",
       "    </tr>\n",
       "    <tr>\n",
       "      <th>6</th>\n",
       "      <td>desktop-site</td>\n",
       "      <td>5712104279</td>\n",
       "      <td>monthly</td>\n",
       "      <td>en.wikipedia</td>\n",
       "      <td>2008060100</td>\n",
       "    </tr>\n",
       "    <tr>\n",
       "      <th>7</th>\n",
       "      <td>desktop-site</td>\n",
       "      <td>5306302874</td>\n",
       "      <td>monthly</td>\n",
       "      <td>en.wikipedia</td>\n",
       "      <td>2008070100</td>\n",
       "    </tr>\n",
       "    <tr>\n",
       "      <th>8</th>\n",
       "      <td>desktop-site</td>\n",
       "      <td>5140155519</td>\n",
       "      <td>monthly</td>\n",
       "      <td>en.wikipedia</td>\n",
       "      <td>2008080100</td>\n",
       "    </tr>\n",
       "    <tr>\n",
       "      <th>9</th>\n",
       "      <td>desktop-site</td>\n",
       "      <td>5479533823</td>\n",
       "      <td>monthly</td>\n",
       "      <td>en.wikipedia</td>\n",
       "      <td>2008090100</td>\n",
       "    </tr>\n",
       "    <tr>\n",
       "      <th>10</th>\n",
       "      <td>desktop-site</td>\n",
       "      <td>5679440782</td>\n",
       "      <td>monthly</td>\n",
       "      <td>en.wikipedia</td>\n",
       "      <td>2008100100</td>\n",
       "    </tr>\n",
       "    <tr>\n",
       "      <th>11</th>\n",
       "      <td>desktop-site</td>\n",
       "      <td>5415832071</td>\n",
       "      <td>monthly</td>\n",
       "      <td>en.wikipedia</td>\n",
       "      <td>2008110100</td>\n",
       "    </tr>\n",
       "    <tr>\n",
       "      <th>12</th>\n",
       "      <td>desktop-site</td>\n",
       "      <td>5211708451</td>\n",
       "      <td>monthly</td>\n",
       "      <td>en.wikipedia</td>\n",
       "      <td>2008120100</td>\n",
       "    </tr>\n",
       "    <tr>\n",
       "      <th>13</th>\n",
       "      <td>desktop-site</td>\n",
       "      <td>5802681551</td>\n",
       "      <td>monthly</td>\n",
       "      <td>en.wikipedia</td>\n",
       "      <td>2009010100</td>\n",
       "    </tr>\n",
       "    <tr>\n",
       "      <th>14</th>\n",
       "      <td>desktop-site</td>\n",
       "      <td>5547320860</td>\n",
       "      <td>monthly</td>\n",
       "      <td>en.wikipedia</td>\n",
       "      <td>2009020100</td>\n",
       "    </tr>\n",
       "    <tr>\n",
       "      <th>15</th>\n",
       "      <td>desktop-site</td>\n",
       "      <td>6295159057</td>\n",
       "      <td>monthly</td>\n",
       "      <td>en.wikipedia</td>\n",
       "      <td>2009030100</td>\n",
       "    </tr>\n",
       "    <tr>\n",
       "      <th>16</th>\n",
       "      <td>desktop-site</td>\n",
       "      <td>5988817321</td>\n",
       "      <td>monthly</td>\n",
       "      <td>en.wikipedia</td>\n",
       "      <td>2009040100</td>\n",
       "    </tr>\n",
       "    <tr>\n",
       "      <th>17</th>\n",
       "      <td>desktop-site</td>\n",
       "      <td>6267516733</td>\n",
       "      <td>monthly</td>\n",
       "      <td>en.wikipedia</td>\n",
       "      <td>2009050100</td>\n",
       "    </tr>\n",
       "    <tr>\n",
       "      <th>18</th>\n",
       "      <td>desktop-site</td>\n",
       "      <td>5818924182</td>\n",
       "      <td>monthly</td>\n",
       "      <td>en.wikipedia</td>\n",
       "      <td>2009060100</td>\n",
       "    </tr>\n",
       "    <tr>\n",
       "      <th>19</th>\n",
       "      <td>desktop-site</td>\n",
       "      <td>5801646978</td>\n",
       "      <td>monthly</td>\n",
       "      <td>en.wikipedia</td>\n",
       "      <td>2009070100</td>\n",
       "    </tr>\n",
       "    <tr>\n",
       "      <th>20</th>\n",
       "      <td>desktop-site</td>\n",
       "      <td>5790850384</td>\n",
       "      <td>monthly</td>\n",
       "      <td>en.wikipedia</td>\n",
       "      <td>2009080100</td>\n",
       "    </tr>\n",
       "    <tr>\n",
       "      <th>21</th>\n",
       "      <td>desktop-site</td>\n",
       "      <td>4057515768</td>\n",
       "      <td>monthly</td>\n",
       "      <td>en.wikipedia</td>\n",
       "      <td>2009090100</td>\n",
       "    </tr>\n",
       "    <tr>\n",
       "      <th>22</th>\n",
       "      <td>desktop-site</td>\n",
       "      <td>6016107147</td>\n",
       "      <td>monthly</td>\n",
       "      <td>en.wikipedia</td>\n",
       "      <td>2009100100</td>\n",
       "    </tr>\n",
       "    <tr>\n",
       "      <th>23</th>\n",
       "      <td>desktop-site</td>\n",
       "      <td>5768486910</td>\n",
       "      <td>monthly</td>\n",
       "      <td>en.wikipedia</td>\n",
       "      <td>2009110100</td>\n",
       "    </tr>\n",
       "    <tr>\n",
       "      <th>24</th>\n",
       "      <td>desktop-site</td>\n",
       "      <td>5426505977</td>\n",
       "      <td>monthly</td>\n",
       "      <td>en.wikipedia</td>\n",
       "      <td>2009120100</td>\n",
       "    </tr>\n",
       "    <tr>\n",
       "      <th>25</th>\n",
       "      <td>desktop-site</td>\n",
       "      <td>5703465285</td>\n",
       "      <td>monthly</td>\n",
       "      <td>en.wikipedia</td>\n",
       "      <td>2010010100</td>\n",
       "    </tr>\n",
       "    <tr>\n",
       "      <th>26</th>\n",
       "      <td>desktop-site</td>\n",
       "      <td>5762451418</td>\n",
       "      <td>monthly</td>\n",
       "      <td>en.wikipedia</td>\n",
       "      <td>2010020100</td>\n",
       "    </tr>\n",
       "    <tr>\n",
       "      <th>27</th>\n",
       "      <td>desktop-site</td>\n",
       "      <td>6661347946</td>\n",
       "      <td>monthly</td>\n",
       "      <td>en.wikipedia</td>\n",
       "      <td>2010030100</td>\n",
       "    </tr>\n",
       "    <tr>\n",
       "      <th>28</th>\n",
       "      <td>desktop-site</td>\n",
       "      <td>6618552152</td>\n",
       "      <td>monthly</td>\n",
       "      <td>en.wikipedia</td>\n",
       "      <td>2010040100</td>\n",
       "    </tr>\n",
       "    <tr>\n",
       "      <th>29</th>\n",
       "      <td>desktop-site</td>\n",
       "      <td>6410578775</td>\n",
       "      <td>monthly</td>\n",
       "      <td>en.wikipedia</td>\n",
       "      <td>2010050100</td>\n",
       "    </tr>\n",
       "    <tr>\n",
       "      <th>...</th>\n",
       "      <td>...</td>\n",
       "      <td>...</td>\n",
       "      <td>...</td>\n",
       "      <td>...</td>\n",
       "      <td>...</td>\n",
       "    </tr>\n",
       "    <tr>\n",
       "      <th>75</th>\n",
       "      <td>desktop-site</td>\n",
       "      <td>7464128273</td>\n",
       "      <td>monthly</td>\n",
       "      <td>en.wikipedia</td>\n",
       "      <td>2014030100</td>\n",
       "    </tr>\n",
       "    <tr>\n",
       "      <th>76</th>\n",
       "      <td>desktop-site</td>\n",
       "      <td>7216245221</td>\n",
       "      <td>monthly</td>\n",
       "      <td>en.wikipedia</td>\n",
       "      <td>2014040100</td>\n",
       "    </tr>\n",
       "    <tr>\n",
       "      <th>77</th>\n",
       "      <td>desktop-site</td>\n",
       "      <td>7543277646</td>\n",
       "      <td>monthly</td>\n",
       "      <td>en.wikipedia</td>\n",
       "      <td>2014050100</td>\n",
       "    </tr>\n",
       "    <tr>\n",
       "      <th>78</th>\n",
       "      <td>desktop-site</td>\n",
       "      <td>6577352648</td>\n",
       "      <td>monthly</td>\n",
       "      <td>en.wikipedia</td>\n",
       "      <td>2014060100</td>\n",
       "    </tr>\n",
       "    <tr>\n",
       "      <th>79</th>\n",
       "      <td>desktop-site</td>\n",
       "      <td>6761059566</td>\n",
       "      <td>monthly</td>\n",
       "      <td>en.wikipedia</td>\n",
       "      <td>2014070100</td>\n",
       "    </tr>\n",
       "    <tr>\n",
       "      <th>80</th>\n",
       "      <td>desktop-site</td>\n",
       "      <td>6687313714</td>\n",
       "      <td>monthly</td>\n",
       "      <td>en.wikipedia</td>\n",
       "      <td>2014080100</td>\n",
       "    </tr>\n",
       "    <tr>\n",
       "      <th>81</th>\n",
       "      <td>desktop-site</td>\n",
       "      <td>7564600999</td>\n",
       "      <td>monthly</td>\n",
       "      <td>en.wikipedia</td>\n",
       "      <td>2014090100</td>\n",
       "    </tr>\n",
       "    <tr>\n",
       "      <th>82</th>\n",
       "      <td>desktop-site</td>\n",
       "      <td>6577533128</td>\n",
       "      <td>monthly</td>\n",
       "      <td>en.wikipedia</td>\n",
       "      <td>2014100100</td>\n",
       "    </tr>\n",
       "    <tr>\n",
       "      <th>83</th>\n",
       "      <td>desktop-site</td>\n",
       "      <td>6153537606</td>\n",
       "      <td>monthly</td>\n",
       "      <td>en.wikipedia</td>\n",
       "      <td>2014110100</td>\n",
       "    </tr>\n",
       "    <tr>\n",
       "      <th>84</th>\n",
       "      <td>desktop-site</td>\n",
       "      <td>5830332248</td>\n",
       "      <td>monthly</td>\n",
       "      <td>en.wikipedia</td>\n",
       "      <td>2014120100</td>\n",
       "    </tr>\n",
       "    <tr>\n",
       "      <th>85</th>\n",
       "      <td>desktop-site</td>\n",
       "      <td>6103767055</td>\n",
       "      <td>monthly</td>\n",
       "      <td>en.wikipedia</td>\n",
       "      <td>2015010100</td>\n",
       "    </tr>\n",
       "    <tr>\n",
       "      <th>86</th>\n",
       "      <td>desktop-site</td>\n",
       "      <td>5602710439</td>\n",
       "      <td>monthly</td>\n",
       "      <td>en.wikipedia</td>\n",
       "      <td>2015020100</td>\n",
       "    </tr>\n",
       "    <tr>\n",
       "      <th>87</th>\n",
       "      <td>desktop-site</td>\n",
       "      <td>6346602713</td>\n",
       "      <td>monthly</td>\n",
       "      <td>en.wikipedia</td>\n",
       "      <td>2015030100</td>\n",
       "    </tr>\n",
       "    <tr>\n",
       "      <th>88</th>\n",
       "      <td>desktop-site</td>\n",
       "      <td>6198945657</td>\n",
       "      <td>monthly</td>\n",
       "      <td>en.wikipedia</td>\n",
       "      <td>2015040100</td>\n",
       "    </tr>\n",
       "    <tr>\n",
       "      <th>89</th>\n",
       "      <td>desktop-site</td>\n",
       "      <td>6323801814</td>\n",
       "      <td>monthly</td>\n",
       "      <td>en.wikipedia</td>\n",
       "      <td>2015050100</td>\n",
       "    </tr>\n",
       "    <tr>\n",
       "      <th>90</th>\n",
       "      <td>desktop-site</td>\n",
       "      <td>5165413640</td>\n",
       "      <td>monthly</td>\n",
       "      <td>en.wikipedia</td>\n",
       "      <td>2015060100</td>\n",
       "    </tr>\n",
       "    <tr>\n",
       "      <th>91</th>\n",
       "      <td>desktop-site</td>\n",
       "      <td>5229226022</td>\n",
       "      <td>monthly</td>\n",
       "      <td>en.wikipedia</td>\n",
       "      <td>2015070100</td>\n",
       "    </tr>\n",
       "    <tr>\n",
       "      <th>92</th>\n",
       "      <td>desktop-site</td>\n",
       "      <td>5035534449</td>\n",
       "      <td>monthly</td>\n",
       "      <td>en.wikipedia</td>\n",
       "      <td>2015080100</td>\n",
       "    </tr>\n",
       "    <tr>\n",
       "      <th>93</th>\n",
       "      <td>desktop-site</td>\n",
       "      <td>5409631355</td>\n",
       "      <td>monthly</td>\n",
       "      <td>en.wikipedia</td>\n",
       "      <td>2015090100</td>\n",
       "    </tr>\n",
       "    <tr>\n",
       "      <th>94</th>\n",
       "      <td>desktop-site</td>\n",
       "      <td>5535704471</td>\n",
       "      <td>monthly</td>\n",
       "      <td>en.wikipedia</td>\n",
       "      <td>2015100100</td>\n",
       "    </tr>\n",
       "    <tr>\n",
       "      <th>95</th>\n",
       "      <td>desktop-site</td>\n",
       "      <td>5296956116</td>\n",
       "      <td>monthly</td>\n",
       "      <td>en.wikipedia</td>\n",
       "      <td>2015110100</td>\n",
       "    </tr>\n",
       "    <tr>\n",
       "      <th>96</th>\n",
       "      <td>desktop-site</td>\n",
       "      <td>5264446173</td>\n",
       "      <td>monthly</td>\n",
       "      <td>en.wikipedia</td>\n",
       "      <td>2015120100</td>\n",
       "    </tr>\n",
       "    <tr>\n",
       "      <th>97</th>\n",
       "      <td>desktop-site</td>\n",
       "      <td>5569632502</td>\n",
       "      <td>monthly</td>\n",
       "      <td>en.wikipedia</td>\n",
       "      <td>2016010100</td>\n",
       "    </tr>\n",
       "    <tr>\n",
       "      <th>98</th>\n",
       "      <td>desktop-site</td>\n",
       "      <td>5347709361</td>\n",
       "      <td>monthly</td>\n",
       "      <td>en.wikipedia</td>\n",
       "      <td>2016020100</td>\n",
       "    </tr>\n",
       "    <tr>\n",
       "      <th>99</th>\n",
       "      <td>desktop-site</td>\n",
       "      <td>5407676056</td>\n",
       "      <td>monthly</td>\n",
       "      <td>en.wikipedia</td>\n",
       "      <td>2016030100</td>\n",
       "    </tr>\n",
       "    <tr>\n",
       "      <th>100</th>\n",
       "      <td>desktop-site</td>\n",
       "      <td>5572235399</td>\n",
       "      <td>monthly</td>\n",
       "      <td>en.wikipedia</td>\n",
       "      <td>2016040100</td>\n",
       "    </tr>\n",
       "    <tr>\n",
       "      <th>101</th>\n",
       "      <td>desktop-site</td>\n",
       "      <td>5330532334</td>\n",
       "      <td>monthly</td>\n",
       "      <td>en.wikipedia</td>\n",
       "      <td>2016050100</td>\n",
       "    </tr>\n",
       "    <tr>\n",
       "      <th>102</th>\n",
       "      <td>desktop-site</td>\n",
       "      <td>4975092447</td>\n",
       "      <td>monthly</td>\n",
       "      <td>en.wikipedia</td>\n",
       "      <td>2016060100</td>\n",
       "    </tr>\n",
       "    <tr>\n",
       "      <th>103</th>\n",
       "      <td>desktop-site</td>\n",
       "      <td>5363966439</td>\n",
       "      <td>monthly</td>\n",
       "      <td>en.wikipedia</td>\n",
       "      <td>2016070100</td>\n",
       "    </tr>\n",
       "    <tr>\n",
       "      <th>104</th>\n",
       "      <td>desktop-site</td>\n",
       "      <td>913675893</td>\n",
       "      <td>monthly</td>\n",
       "      <td>en.wikipedia</td>\n",
       "      <td>2016080100</td>\n",
       "    </tr>\n",
       "  </tbody>\n",
       "</table>\n",
       "<p>105 rows × 5 columns</p>\n",
       "</div>"
      ],
      "text/plain": [
       "      access-site       count granularity       project   timestamp\n",
       "0    desktop-site  2998331524     monthly  en.wikipedia  2007120100\n",
       "1    desktop-site  4930902570     monthly  en.wikipedia  2008010100\n",
       "2    desktop-site  4818393763     monthly  en.wikipedia  2008020100\n",
       "3    desktop-site  4955405809     monthly  en.wikipedia  2008030100\n",
       "4    desktop-site  5159162183     monthly  en.wikipedia  2008040100\n",
       "5    desktop-site  5584691092     monthly  en.wikipedia  2008050100\n",
       "6    desktop-site  5712104279     monthly  en.wikipedia  2008060100\n",
       "7    desktop-site  5306302874     monthly  en.wikipedia  2008070100\n",
       "8    desktop-site  5140155519     monthly  en.wikipedia  2008080100\n",
       "9    desktop-site  5479533823     monthly  en.wikipedia  2008090100\n",
       "10   desktop-site  5679440782     monthly  en.wikipedia  2008100100\n",
       "11   desktop-site  5415832071     monthly  en.wikipedia  2008110100\n",
       "12   desktop-site  5211708451     monthly  en.wikipedia  2008120100\n",
       "13   desktop-site  5802681551     monthly  en.wikipedia  2009010100\n",
       "14   desktop-site  5547320860     monthly  en.wikipedia  2009020100\n",
       "15   desktop-site  6295159057     monthly  en.wikipedia  2009030100\n",
       "16   desktop-site  5988817321     monthly  en.wikipedia  2009040100\n",
       "17   desktop-site  6267516733     monthly  en.wikipedia  2009050100\n",
       "18   desktop-site  5818924182     monthly  en.wikipedia  2009060100\n",
       "19   desktop-site  5801646978     monthly  en.wikipedia  2009070100\n",
       "20   desktop-site  5790850384     monthly  en.wikipedia  2009080100\n",
       "21   desktop-site  4057515768     monthly  en.wikipedia  2009090100\n",
       "22   desktop-site  6016107147     monthly  en.wikipedia  2009100100\n",
       "23   desktop-site  5768486910     monthly  en.wikipedia  2009110100\n",
       "24   desktop-site  5426505977     monthly  en.wikipedia  2009120100\n",
       "25   desktop-site  5703465285     monthly  en.wikipedia  2010010100\n",
       "26   desktop-site  5762451418     monthly  en.wikipedia  2010020100\n",
       "27   desktop-site  6661347946     monthly  en.wikipedia  2010030100\n",
       "28   desktop-site  6618552152     monthly  en.wikipedia  2010040100\n",
       "29   desktop-site  6410578775     monthly  en.wikipedia  2010050100\n",
       "..            ...         ...         ...           ...         ...\n",
       "75   desktop-site  7464128273     monthly  en.wikipedia  2014030100\n",
       "76   desktop-site  7216245221     monthly  en.wikipedia  2014040100\n",
       "77   desktop-site  7543277646     monthly  en.wikipedia  2014050100\n",
       "78   desktop-site  6577352648     monthly  en.wikipedia  2014060100\n",
       "79   desktop-site  6761059566     monthly  en.wikipedia  2014070100\n",
       "80   desktop-site  6687313714     monthly  en.wikipedia  2014080100\n",
       "81   desktop-site  7564600999     monthly  en.wikipedia  2014090100\n",
       "82   desktop-site  6577533128     monthly  en.wikipedia  2014100100\n",
       "83   desktop-site  6153537606     monthly  en.wikipedia  2014110100\n",
       "84   desktop-site  5830332248     monthly  en.wikipedia  2014120100\n",
       "85   desktop-site  6103767055     monthly  en.wikipedia  2015010100\n",
       "86   desktop-site  5602710439     monthly  en.wikipedia  2015020100\n",
       "87   desktop-site  6346602713     monthly  en.wikipedia  2015030100\n",
       "88   desktop-site  6198945657     monthly  en.wikipedia  2015040100\n",
       "89   desktop-site  6323801814     monthly  en.wikipedia  2015050100\n",
       "90   desktop-site  5165413640     monthly  en.wikipedia  2015060100\n",
       "91   desktop-site  5229226022     monthly  en.wikipedia  2015070100\n",
       "92   desktop-site  5035534449     monthly  en.wikipedia  2015080100\n",
       "93   desktop-site  5409631355     monthly  en.wikipedia  2015090100\n",
       "94   desktop-site  5535704471     monthly  en.wikipedia  2015100100\n",
       "95   desktop-site  5296956116     monthly  en.wikipedia  2015110100\n",
       "96   desktop-site  5264446173     monthly  en.wikipedia  2015120100\n",
       "97   desktop-site  5569632502     monthly  en.wikipedia  2016010100\n",
       "98   desktop-site  5347709361     monthly  en.wikipedia  2016020100\n",
       "99   desktop-site  5407676056     monthly  en.wikipedia  2016030100\n",
       "100  desktop-site  5572235399     monthly  en.wikipedia  2016040100\n",
       "101  desktop-site  5330532334     monthly  en.wikipedia  2016050100\n",
       "102  desktop-site  4975092447     monthly  en.wikipedia  2016060100\n",
       "103  desktop-site  5363966439     monthly  en.wikipedia  2016070100\n",
       "104  desktop-site   913675893     monthly  en.wikipedia  2016080100\n",
       "\n",
       "[105 rows x 5 columns]"
      ]
     },
     "execution_count": 23,
     "metadata": {},
     "output_type": "execute_result"
    }
   ],
   "source": [
    "from pandas.io.json import json_normalize\n",
    "json_normalize(desktop_legacy_dict['items'])"
   ]
  },
  {
   "cell_type": "code",
   "execution_count": 26,
   "metadata": {},
   "outputs": [],
   "source": [
    "desktop_legacy_fix = json_normalize(desktop_legacy_dict['items'])\n",
    "desktop_legacy_fix = desktop_legacy_fix.rename(columns={'count' : 'views'})\n",
    "mobile_legacy_fix = json_normalize(mobile_legacy_dict['items'])\n",
    "mobile_legacy_fix = desktop_legacy_fix.rename(columns={'count' : 'views'})\n",
    "#desktop_legacy_fix\n",
    "\n",
    "desktop_pageviews_fix = json_normalize(desktop_pageviews_dict['items'])\n",
    "mobile_web_pageviews_fix = json_normalize(mobile_web_pageviews_dict['items'])\n",
    "mobile_app_pageviews_fix = json_normalize(mobile_app_pageviews_dict['items'])\n"
   ]
  },
  {
   "cell_type": "markdown",
   "metadata": {},
   "source": [
    "https://pandas.pydata.org/pandas-docs/stable/reference/api/pandas.date_range.html\n",
    "\n",
    "https://datacarpentry.org/python-ecology-lesson/05-merging-data/\n"
   ]
  },
  {
   "cell_type": "code",
   "execution_count": null,
   "metadata": {},
   "outputs": [],
   "source": [
    "for i in pd.date_range('2001010100', '2008100100', freq='M'):"
   ]
  },
  {
   "cell_type": "markdown",
   "metadata": {},
   "source": [
    "advice from classmates\n",
    "\n",
    "array of dicts\n",
    "\n",
    "Iterate over below list, to get number of views\n",
    "\n",
    "pandas look up json normalize to read unstructured json file\n",
    "\n",
    "exclude views/counts that are zero. lib plt"
   ]
  },
  {
   "cell_type": "markdown",
   "metadata": {},
   "source": [
    "### 3. DATA PROCESSING"
   ]
  },
  {
   "cell_type": "markdown",
   "metadata": {},
   "source": [
    "\"Your visualization will track three traffic metrics: mobile traffic, desktop traffic, and all traffic (mobile + desktop).\" -JMO\n",
    "\n",
    "\"In order to complete the analysis correctly and receive full credit, your graph will need to be the right scale to view the data; all units, axes, and values should be clearly labeled; and the graph should possess a legend and a title. You must also generate a .png or .jpeg formatted image of your final graph.\" - JMO\n",
    "\n",
    "Goal is to reproduce this visualization:\n",
    "https://wiki.communitydata.science/File:En-wikipedia_traffic_200801-201709_thompson.png"
   ]
  },
  {
   "cell_type": "code",
   "execution_count": null,
   "metadata": {},
   "outputs": [],
   "source": []
  },
  {
   "cell_type": "markdown",
   "metadata": {},
   "source": [
    "### 4. Documentation"
   ]
  },
  {
   "cell_type": "markdown",
   "metadata": {},
   "source": [
    "\"Follow best practices for documenting your project, as outlined in the lecture slides and in Chapter 2 \"Assessing Reproducibility\" and Chapter 3 \"The Basic Reproducible Workflow Template\" from The Practice of Reproducible Research.\n",
    "\n",
    "Your documentation will be done in your Jupyter Notebook, a README file, and a LICENSE file.\n",
    "\n",
    "At minimum, your Jupyter Notebook should:\n",
    "\n",
    "Provide a short, clear description of every step in the acquisition, processing, and analysis of your data in full Markdown sentences (not just inline comments or docstrings)\n",
    "At minimum, you README file should\n",
    "Describe the goal of the project.\n",
    "List the license of the source data and a link to the Wikimedia Foundation REST API terms of use: https://www.mediawiki.org/wiki/REST_API#Terms_and_conditions\n",
    "Link to all relevant API documentation\n",
    "Describe the values of all fields in your final data file.\n",
    "List any known issues or special considerations with the data that would be useful for another researcher to know. For example, you should describe that data from the Pageview API excludes spiders/crawlers, while data from the Pagecounts API does not.\" - JMO"
   ]
  }
 ],
 "metadata": {
  "kernelspec": {
   "display_name": "Python 3",
   "language": "python",
   "name": "python3"
  },
  "language_info": {
   "codemirror_mode": {
    "name": "ipython",
    "version": 3
   },
   "file_extension": ".py",
   "mimetype": "text/x-python",
   "name": "python",
   "nbconvert_exporter": "python",
   "pygments_lexer": "ipython3",
   "version": "3.7.1"
  }
 },
 "nbformat": 4,
 "nbformat_minor": 2
}
